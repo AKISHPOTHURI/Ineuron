{
 "cells": [
  {
   "cell_type": "markdown",
   "id": "3cdeb84a-325b-4b76-ac6a-048fd0474ccb",
   "metadata": {},
   "source": [
    "1. What does an empty dictionary&#39;s code look like?"
   ]
  },
  {
   "cell_type": "markdown",
   "id": "21f0413e-7a77-4010-84d1-4dc8ff7cc0d3",
   "metadata": {},
   "source": [
    "An empty pair of curly braces {} is an empty dictionary. It doesn't had any key,value pairs in it."
   ]
  },
  {
   "cell_type": "markdown",
   "id": "8385c504-088f-4581-89ca-fe75ac49c59d",
   "metadata": {},
   "source": [
    "2. What is the value of a dictionary value with the key &#39;foo&#39; and the value 42?"
   ]
  },
  {
   "cell_type": "code",
   "execution_count": 4,
   "id": "128540c9-4b88-4bac-b293-f54a91f21053",
   "metadata": {},
   "outputs": [
    {
     "data": {
      "text/plain": [
       "{'foo': 42}"
      ]
     },
     "execution_count": 4,
     "metadata": {},
     "output_type": "execute_result"
    }
   ],
   "source": [
    "a = {'foo':42}\n",
    "#The key and value of the look like below\n",
    "a"
   ]
  },
  {
   "cell_type": "raw",
   "id": "24333af9-8a10-429b-a44a-d5775a5500a7",
   "metadata": {},
   "source": [
    "3. What is the most significant distinction between a dictionary and a list?"
   ]
  },
  {
   "cell_type": "raw",
   "id": "67584c5d-56e2-4a55-9e2d-def6a198d979",
   "metadata": {},
   "source": [
    "The main distinction between the dictionary and list is the list in defined in square brackets and dictionary is defined in curly braces.\n",
    "ex:\n",
    "a = [] -> list\n",
    "a = {} -> dictionary"
   ]
  },
  {
   "cell_type": "markdown",
   "id": "75d5f727-236f-41ab-a682-22524c17be59",
   "metadata": {},
   "source": [
    "4. What happens if you try to access spam[&#39;foo&#39;] if spam is {&#39;bar&#39;: 100}?"
   ]
  },
  {
   "cell_type": "code",
   "execution_count": 6,
   "id": "1a6b6cbc-8102-46e4-9b06-28e8cf920736",
   "metadata": {},
   "outputs": [
    {
     "ename": "KeyError",
     "evalue": "'foo'",
     "output_type": "error",
     "traceback": [
      "\u001b[0;31m---------------------------------------------------------------------------\u001b[0m",
      "\u001b[0;31mKeyError\u001b[0m                                  Traceback (most recent call last)",
      "Cell \u001b[0;32mIn [6], line 2\u001b[0m\n\u001b[1;32m      1\u001b[0m spam \u001b[38;5;241m=\u001b[39m {\u001b[38;5;124m'\u001b[39m\u001b[38;5;124mbar\u001b[39m\u001b[38;5;124m'\u001b[39m:\u001b[38;5;241m100\u001b[39m}\n\u001b[0;32m----> 2\u001b[0m \u001b[43mspam\u001b[49m\u001b[43m[\u001b[49m\u001b[38;5;124;43m'\u001b[39;49m\u001b[38;5;124;43mfoo\u001b[39;49m\u001b[38;5;124;43m'\u001b[39;49m\u001b[43m]\u001b[49m\n",
      "\u001b[0;31mKeyError\u001b[0m: 'foo'"
     ]
    }
   ],
   "source": [
    "spam = {'bar':100}\n",
    "spam['foo']\n",
    "#keyError raises"
   ]
  },
  {
   "cell_type": "markdown",
   "id": "f7bc82a5-2754-4cb7-ae10-641645661a2c",
   "metadata": {},
   "source": [
    "5. If a dictionary is stored in spam, what is the difference between the expressions &#39;cat&#39; in spam and\n",
    "&#39;cat&#39; in spam.keys()?"
   ]
  },
  {
   "cell_type": "markdown",
   "id": "3ba9e8f1-93d5-4254-b013-f3690024cf2c",
   "metadata": {},
   "source": [
    "There is no difference. The in operator checks whether a value exists as a key in the dictionary. 'cat' in spam checks whether there is a 'cat' key in the dictionary"
   ]
  },
  {
   "cell_type": "markdown",
   "id": "3a1a072a-3100-4e1f-a322-d35a2c34320a",
   "metadata": {},
   "source": [
    "6. If a dictionary is stored in spam, what is the difference between the expressions &#39;cat&#39; in spam and\n",
    "&#39;cat&#39; in spam.values()?"
   ]
  },
  {
   "cell_type": "code",
   "execution_count": 7,
   "id": "6e8e8c8f-8e3a-4c12-bb9b-f5cd05bc1d1b",
   "metadata": {},
   "outputs": [
    {
     "data": {
      "text/plain": [
       "True"
      ]
     },
     "execution_count": 7,
     "metadata": {},
     "output_type": "execute_result"
    }
   ],
   "source": [
    "spam = {'cat':42, 'dog':40}\n",
    "'cat' in spam"
   ]
  },
  {
   "cell_type": "code",
   "execution_count": 8,
   "id": "ec309ae7-eca0-419e-a2b9-baf1beffa0e0",
   "metadata": {},
   "outputs": [
    {
     "data": {
      "text/plain": [
       "False"
      ]
     },
     "execution_count": 8,
     "metadata": {},
     "output_type": "execute_result"
    }
   ],
   "source": [
    "'cat' in spam.values()"
   ]
  },
  {
   "cell_type": "markdown",
   "id": "d0fae6fa-1762-4db4-a39c-dcde2295640a",
   "metadata": {},
   "source": [
    "The 'cat' in spam search for the key in spam as 'cat' whereas in 'cat' in spam.values() search for the cat in the values"
   ]
  },
  {
   "cell_type": "markdown",
   "id": "3dd5e63a-b92c-460d-981a-b6e7fed1f668",
   "metadata": {},
   "source": [
    "#7. What is a shortcut for the following code?\n",
    "if &#39;color&#39; not in spam:\n",
    "spam[&#39;color&#39;] = &#39;black&#39;"
   ]
  },
  {
   "cell_type": "code",
   "execution_count": 11,
   "id": "4a6560bb-c867-4b53-bf44-4bdbb7978736",
   "metadata": {},
   "outputs": [
    {
     "data": {
      "text/plain": [
       "'black'"
      ]
     },
     "execution_count": 11,
     "metadata": {},
     "output_type": "execute_result"
    }
   ],
   "source": [
    "spam = {'cat':'foo'}\n",
    "spam.setdefault('color','black')"
   ]
  },
  {
   "cell_type": "code",
   "execution_count": 12,
   "id": "115ee1c3-2289-49d6-9417-838b880b9743",
   "metadata": {},
   "outputs": [
    {
     "data": {
      "text/plain": [
       "{'cat': 'foo', 'color': 'black'}"
      ]
     },
     "execution_count": 12,
     "metadata": {},
     "output_type": "execute_result"
    }
   ],
   "source": [
    "spam"
   ]
  },
  {
   "cell_type": "markdown",
   "id": "e6849097-56e1-48a7-ba17-69a2905cdd4b",
   "metadata": {},
   "source": [
    "8. How do you &quot;pretty print&quot; dictionary values using which module and function?"
   ]
  },
  {
   "cell_type": "code",
   "execution_count": 13,
   "id": "07fc73bd-3d63-488f-9d73-82d071ce5a64",
   "metadata": {},
   "outputs": [
    {
     "name": "stdout",
     "output_type": "stream",
     "text": [
      "{'class_attended': [{'Mathematics', 'English', 'Science'}],\n",
      " 'name': 'harry',\n",
      " 'serial_no': 65}\n"
     ]
    }
   ],
   "source": [
    "# We first import the pprint module as shown below.\n",
    "import pprint\n",
    "\n",
    "# test dictionary\n",
    "test_dict = {\n",
    "    'serial_no': 65,\n",
    "    'name': 'harry',\n",
    "    'class_attended': [{ 'English', 'Mathematics', 'Science'}]\n",
    "}\n",
    "# a test dictionary where we have unique keys with values that include strings and lists.\n",
    "\n",
    "# creating a variable named pretty where we are implementing the pprint method to pretty print dict python\n",
    "pretty = pprint.pprint(test_dict)"
   ]
  },
  {
   "cell_type": "code",
   "execution_count": null,
   "id": "1eb55b6c-69b0-4a8e-93a4-fd0d59d19884",
   "metadata": {},
   "outputs": [],
   "source": []
  }
 ],
 "metadata": {
  "kernelspec": {
   "display_name": "Python 3 (ipykernel)",
   "language": "python",
   "name": "python3"
  },
  "language_info": {
   "codemirror_mode": {
    "name": "ipython",
    "version": 3
   },
   "file_extension": ".py",
   "mimetype": "text/x-python",
   "name": "python",
   "nbconvert_exporter": "python",
   "pygments_lexer": "ipython3",
   "version": "3.10.6"
  }
 },
 "nbformat": 4,
 "nbformat_minor": 5
}
